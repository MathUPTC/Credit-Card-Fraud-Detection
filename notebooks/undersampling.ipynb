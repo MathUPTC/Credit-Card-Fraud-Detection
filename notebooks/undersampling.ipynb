{
 "cells": [
  {
   "cell_type": "markdown",
   "metadata": {},
   "source": [
    "Importamos las librerias necesarias"
   ]
  },
  {
   "cell_type": "code",
   "execution_count": 1,
   "metadata": {},
   "outputs": [],
   "source": [
    "import random\n",
    "import pandas as pd"
   ]
  },
  {
   "cell_type": "markdown",
   "metadata": {},
   "source": [
    "Se importa la base de datos y se convierte en data frame, con este vamos a crear uno nuevo donde se encuentren todos los datos que corresponden a transacciones fraudulentas y un 150% de esa cantidad en datos que sean de transacciones no fraudulentas."
   ]
  },
  {
   "cell_type": "code",
   "execution_count": 107,
   "metadata": {},
   "outputs": [],
   "source": [
    "df = pd.read_csv(r\"D:\\Castro\\Documentos\\Git\\Data\\raw\\creditcard.csv\")\n",
    "\n",
    "fraudulent_df = df.loc[df['Class'] ==1] # Se crea un nuevo data frame con las  transacciones fraudulentas"
   ]
  },
  {
   "cell_type": "code",
   "execution_count": 12,
   "metadata": {},
   "outputs": [
    {
     "name": "stdout",
     "output_type": "stream",
     "text": [
      "(492, 31)\n"
     ]
    }
   ],
   "source": [
    "print(fraudulent_df.shape) #Observamos la cantidad de datos de transacciones fraudulentas"
   ]
  },
  {
   "cell_type": "code",
   "execution_count": null,
   "metadata": {},
   "outputs": [],
   "source": [
    "#Vamos a usar la libreria random para seleccionar un dato aleatorio en la base de datos, revisar si corresponde con\n",
    "#una transacción no fraudulenta y si es así, agregarlo a un nuevo data frame\n",
    "\n",
    "notfraudulent_df = pd.DataFrame()   #Creamos el nuevo data frame\n",
    "numbers =  []                       #Creamos una lista que nos servirá para verificar que no estemos usando fila repetidas\n",
    "\n",
    "\n",
    "while len(notfraudulent_df) < 738: #Se crea la condición necesaria para que el nuevo data frame tenga 1.5 veces la cantidad de elementos que el data frame de transacciones fraudulentas\n",
    "    randomnumber = random.randint(0,284807) #Se genera un número random para escoger en el data frame\n",
    "    row = df.iloc[randomnumber] #Se selecciona la fila del número generado en el data frame\n",
    "    row_df = pd.DataFrame([row]) #Se convierte la fila en un data frame\n",
    "    value = row_df[\"Class\"] #Se obtiene el valor que hay en la columna class para saber si corresponde con una transacción fraudulenta\n",
    "    boolean = randomnumber in numbers #Se verifica si el número random generado ya se había generado antes\n",
    "    if boolean==False and value[randomnumber]==0: #Si el número random no sea había generado antes y la transacción no es fraudulenta se continua\n",
    "        numbers.append(randomnumber)    #Se agrega el número random a la lista de ya generados\n",
    "        notfraudulent_df = pd.concat([notfraudulent_df, row_df]) #Se agrega la fila seleccionada al data frame\n",
    "\n"
   ]
  },
  {
   "cell_type": "code",
   "execution_count": 109,
   "metadata": {},
   "outputs": [],
   "source": [
    "#Finalmente se crea un data frame que reune los dos anteriores\n",
    "complete_df = pd.concat([notfraudulent_df,fraudulent_df], ignore_index=True)\n"
   ]
  }
 ],
 "metadata": {
  "kernelspec": {
   "display_name": "Python 3",
   "language": "python",
   "name": "python3"
  },
  "language_info": {
   "codemirror_mode": {
    "name": "ipython",
    "version": 3
   },
   "file_extension": ".py",
   "mimetype": "text/x-python",
   "name": "python",
   "nbconvert_exporter": "python",
   "pygments_lexer": "ipython3",
   "version": "3.11.9"
  }
 },
 "nbformat": 4,
 "nbformat_minor": 2
}
