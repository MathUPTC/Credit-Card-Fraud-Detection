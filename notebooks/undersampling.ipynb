{
 "cells": [
  {
   "cell_type": "markdown",
   "metadata": {},
   "source": [
    "Importamos las librerias necesarias"
   ]
  },
  {
   "cell_type": "code",
   "execution_count": 7,
   "metadata": {},
   "outputs": [],
   "source": [
    "import random\n",
    "import pandas as pd\n",
    "from sklearn.model_selection import train_test_split"
   ]
  },
  {
   "cell_type": "markdown",
   "metadata": {},
   "source": [
    "Se importa la base de datos y se convierte en data frame, con este vamos a crear uno nuevo donde se encuentren todos los datos que corresponden a transacciones fraudulentas y un 150% de esa cantidad en datos que sean de transacciones no fraudulentas."
   ]
  },
  {
   "cell_type": "code",
   "execution_count": 3,
   "metadata": {},
   "outputs": [],
   "source": [
    "df = pd.read_csv(r\"D:\\Castro\\Documentos\\Git\\Data\\raw\\creditcard.csv\")\n",
    "\n",
    "fraudulent_df = df.loc[df['Class'] == 1] # Se crea un nuevo data frame con las  transacciones fraudulentas\n",
    "notfraudulent_df = df.loc[df[\"Class\"]== 0] # Se crea un nuevo data frame con las  transacciones no fraudulentas"
   ]
  },
  {
   "cell_type": "code",
   "execution_count": 4,
   "metadata": {},
   "outputs": [
    {
     "name": "stdout",
     "output_type": "stream",
     "text": [
      "(492, 31)\n"
     ]
    }
   ],
   "source": [
    "print(fraudulent_df.shape) #Observamos la cantidad de datos de transacciones fraudulentas"
   ]
  },
  {
   "cell_type": "code",
   "execution_count": 20,
   "metadata": {},
   "outputs": [
    {
     "name": "stdout",
     "output_type": "stream",
     "text": [
      "984\n"
     ]
    }
   ],
   "source": [
    "#método para obtener 492 datos del data frame de transacciones no fraudulentas\n",
    "\n",
    "sampling_nf = notfraudulent_df.sample(n=492, replace=False)\n",
    "\n",
    "#Finalmente se crea un data frame que reune los dos anteriores de esta manera hemos balanceado los datos por under sampling\n",
    "balanced_df = pd.concat([sampling_nf,fraudulent_df], ignore_index=True)\n",
    "\n",
    "#Ahora vamos a dividir los datos, en datos de prueba y entrenamiento en proporción 80/20\n",
    "\n",
    "X = balanced_df.drop(\"Class\", axis=1)\n",
    "Y = balanced_df[\"Class\"]\n",
    "\n",
    "X_train, X_test, y_train, y_test = train_test_split(X, Y, test_size=0.2, random_state=42, stratify=Y)"
   ]
  },
  {
   "cell_type": "code",
   "execution_count": 19,
   "metadata": {},
   "outputs": [
    {
     "name": "stdout",
     "output_type": "stream",
     "text": [
      "984\n"
     ]
    }
   ],
   "source": [
    "\n"
   ]
  }
 ],
 "metadata": {
  "kernelspec": {
   "display_name": "Python 3",
   "language": "python",
   "name": "python3"
  },
  "language_info": {
   "codemirror_mode": {
    "name": "ipython",
    "version": 3
   },
   "file_extension": ".py",
   "mimetype": "text/x-python",
   "name": "python",
   "nbconvert_exporter": "python",
   "pygments_lexer": "ipython3",
   "version": "3.11.9"
  }
 },
 "nbformat": 4,
 "nbformat_minor": 2
}
